{
 "cells": [
  {
   "cell_type": "code",
   "execution_count": 17,
   "metadata": {},
   "outputs": [],
   "source": [
    "import os\n",
    "import sys\n",
    "\n",
    "sys.path.insert(0, os.path.abspath(\"..\"))"
   ]
  },
  {
   "cell_type": "code",
   "execution_count": 18,
   "metadata": {},
   "outputs": [],
   "source": [
    "folder = \"../data/DND rules\"\n",
    "import glob\n",
    "\n",
    "md_files = glob.glob(f\"{folder}/**/*.md\", recursive=True)"
   ]
  },
  {
   "cell_type": "code",
   "execution_count": 19,
   "metadata": {},
   "outputs": [],
   "source": [
    "test = {}\n",
    "for file in md_files:\n",
    "    length = len(file.split(\"/\"))\n",
    "    test[length] = test.get(length, 0) + 1"
   ]
  },
  {
   "cell_type": "code",
   "execution_count": 20,
   "metadata": {},
   "outputs": [
    {
     "data": {
      "text/plain": [
       "1028"
      ]
     },
     "execution_count": 20,
     "metadata": {},
     "output_type": "execute_result"
    }
   ],
   "source": [
    "len(md_files)"
   ]
  },
  {
   "cell_type": "code",
   "execution_count": 21,
   "metadata": {},
   "outputs": [],
   "source": [
    "from langchain_text_splitters import MarkdownHeaderTextSplitter\n",
    "\n",
    "headers_to_split_on = [\n",
    "    (\"#\", \"h1\"),\n",
    "    (\"##\", \"h2\"),\n",
    "    (\"###\", \"h3\"),\n",
    "    (\"####\", \"h4\"),\n",
    "    (\"#####\", \"h5\"),\n",
    "    (\"######\", \"h6\"),\n",
    "    (\"#######\", \"h7\"),\n",
    "]\n",
    "paragraphs = []\n",
    "markdown_splitter = MarkdownHeaderTextSplitter(headers_to_split_on=headers_to_split_on)\n",
    "\n",
    "all_splits = []\n",
    "for file in md_files:\n",
    "    if any([name in file for name in [\"Changelog.md\", \"README.md\", \"Legal.md\"]]):\n",
    "        continue\n",
    "    splits = file.split(\"/\")\n",
    "    with open(file, \"r\") as f:\n",
    "        md_header_splits = markdown_splitter.split_text(f.read())\n",
    "        for text in md_header_splits:\n",
    "            splits[-1] = splits[-1].replace(\".md\", \"\")\n",
    "            txt_metadata = [f\"{k}: {v}\" for k, v in text.metadata.items()]\n",
    "            text.metadata[\"Category\"] = splits[2]\n",
    "            if len(splits) > 3:\n",
    "                text.metadata[\"Sub category\"] = splits[3]\n",
    "\n",
    "            txt_metadata = [\n",
    "                f\"Category: {splits[2]}\",\n",
    "                f\"Sub category: {splits[3]}\" if len(splits) > 3 else \"\",\n",
    "                *txt_metadata,\n",
    "            ]\n",
    "            text.page_content = f\"{'\\n'.join(txt_metadata)}\\n\\n{text.page_content}\"\n",
    "        all_splits.extend(md_header_splits)"
   ]
  },
  {
   "cell_type": "code",
   "execution_count": 22,
   "metadata": {},
   "outputs": [],
   "source": [
    "TOKEN = (\n",
    "    \"OsSrZ1DqQh2Kdfamz0HP7CC7g1DYDZcEDRy_Ql_trCP81h5TnBov2oZ5cOAKSEemTiK9hQ8WdRhiQuPc\"\n",
    ")\n",
    "PRODUCT_ID = \"101420\"\n",
    "URL = f\"https://api.infomaniak.com/1/ai/{PRODUCT_ID}/openai/v1\""
   ]
  },
  {
   "cell_type": "code",
   "execution_count": 23,
   "metadata": {},
   "outputs": [],
   "source": [
    "from common.infomaniak.ik_embeddings import IKEmbeddings\n",
    "\n",
    "model = \"bge_multilingual_gemma2\"  # \"mini_lm_l12_v2\" #\n",
    "\n",
    "embeder = IKEmbeddings(model=model)\n",
    "index = f\"dnd_rules_{model}\""
   ]
  },
  {
   "cell_type": "code",
   "execution_count": 24,
   "metadata": {},
   "outputs": [],
   "source": [
    "import os\n",
    "\n",
    "import meilisearch\n",
    "from langchain.vectorstores import Meilisearch\n",
    "\n",
    "# You can use the same code as `setup.py` to check for missing env vars\n",
    "\n",
    "# Create the vector store\n",
    "client = meilisearch.Client(\n",
    "    url=os.environ.get(\"MEILI_HTTP_ADDR\", \"http://localhost:7700\"),\n",
    "    api_key=os.environ.get(\"MEILI_API_KEY\", \"2AB8F223884CE\"),\n",
    ")"
   ]
  },
  {
   "cell_type": "code",
   "execution_count": 26,
   "metadata": {},
   "outputs": [
    {
     "data": {
      "text/plain": [
       "TaskInfo(task_uid=0, index_uid='dnd_rules_bge_multilingual_gemma2', status='enqueued', type='indexDeletion', enqueued_at=datetime.datetime(2025, 2, 15, 17, 23, 5, 425377))"
      ]
     },
     "execution_count": 26,
     "metadata": {},
     "output_type": "execute_result"
    }
   ],
   "source": [
    "# client.delete_index(\"dnd_rules\")\n",
    "client.delete_index(index)"
   ]
  },
  {
   "cell_type": "code",
   "execution_count": 27,
   "metadata": {},
   "outputs": [
    {
     "data": {
      "text/plain": [
       "'{\"vectorStore\":true,\"metrics\":false,\"logsRoute\":false,\"editDocumentsByFunction\":false,\"containsFilter\":false}'"
      ]
     },
     "execution_count": 27,
     "metadata": {},
     "output_type": "execute_result"
    }
   ],
   "source": [
    "from requests import patch\n",
    "\n",
    "patch(\n",
    "    \"http://localhost:7700/experimental-features\",\n",
    "    headers={\n",
    "        \"Authorization\": f\"Bearer {os.environ.get('MEILI_API_KEY', '2AB8F223884CE')}\"\n",
    "    },\n",
    "    json={\"vectorStore\": True},\n",
    ").text"
   ]
  },
  {
   "cell_type": "code",
   "execution_count": 28,
   "metadata": {},
   "outputs": [
    {
     "data": {
      "text/plain": [
       "'{\"commitSha\":\"876084d48004e04ac0720cb064915d53c4743a1a\",\"commitDate\":\"2025-01-30T10:52:23.000000000Z\",\"pkgVersion\":\"1.12.8\"}'"
      ]
     },
     "execution_count": 28,
     "metadata": {},
     "output_type": "execute_result"
    }
   ],
   "source": [
    "from requests import get\n",
    "\n",
    "get(\n",
    "    \"http://localhost:7700/version\",\n",
    "    headers={\n",
    "        \"Authorization\": f\"Bearer {os.environ.get('MEILI_API_KEY', '2AB8F223884CE')}\"\n",
    "    },\n",
    ").text"
   ]
  },
  {
   "cell_type": "code",
   "execution_count": 29,
   "metadata": {},
   "outputs": [
    {
     "name": "stderr",
     "output_type": "stream",
     "text": [
      "100%|██████████| 1/1 [00:02<00:00,  2.60s/it]\n",
      "100%|██████████| 1/1 [00:02<00:00,  2.77s/it]\n",
      "100%|██████████| 1/1 [00:05<00:00,  5.10s/it]\n",
      "100%|██████████| 1/1 [00:03<00:00,  3.48s/it]\n",
      "100%|██████████| 1/1 [00:03<00:00,  3.19s/it]\n",
      "100%|██████████| 1/1 [00:02<00:00,  2.61s/it]\n",
      "100%|██████████| 1/1 [00:02<00:00,  2.63s/it]\n",
      "100%|██████████| 1/1 [00:03<00:00,  3.04s/it]\n",
      "100%|██████████| 1/1 [00:03<00:00,  3.15s/it]\n",
      "100%|██████████| 1/1 [00:02<00:00,  2.83s/it]\n",
      "100%|██████████| 1/1 [00:02<00:00,  2.05s/it]\n",
      "100%|██████████| 1/1 [00:02<00:00,  2.94s/it]\n",
      "100%|██████████| 1/1 [00:02<00:00,  2.81s/it]\n",
      "100%|██████████| 1/1 [00:02<00:00,  2.97s/it]\n",
      "100%|██████████| 1/1 [00:02<00:00,  2.95s/it]\n",
      "100%|██████████| 1/1 [00:02<00:00,  2.89s/it]\n",
      "100%|██████████| 1/1 [00:02<00:00,  2.63s/it]\n",
      "100%|██████████| 1/1 [00:02<00:00,  2.77s/it]\n",
      "100%|██████████| 1/1 [00:02<00:00,  2.66s/it]\n",
      "100%|██████████| 1/1 [00:02<00:00,  2.07s/it]\n",
      "100%|██████████| 1/1 [00:02<00:00,  2.01s/it]\n",
      "100%|██████████| 1/1 [00:02<00:00,  2.23s/it]\n",
      "100%|██████████| 1/1 [00:02<00:00,  2.51s/it]\n",
      "100%|██████████| 1/1 [00:02<00:00,  2.83s/it]\n",
      "100%|██████████| 1/1 [00:02<00:00,  2.41s/it]\n",
      "100%|██████████| 1/1 [00:03<00:00,  3.21s/it]\n",
      "100%|██████████| 1/1 [00:02<00:00,  2.75s/it]\n",
      "100%|██████████| 1/1 [00:02<00:00,  2.02s/it]\n",
      "100%|██████████| 1/1 [00:02<00:00,  2.93s/it]\n",
      "100%|██████████| 1/1 [00:02<00:00,  2.89s/it]\n",
      "100%|██████████| 1/1 [00:02<00:00,  2.78s/it]\n",
      "100%|██████████| 1/1 [00:02<00:00,  2.98s/it]\n",
      "100%|██████████| 1/1 [00:03<00:00,  3.89s/it]\n",
      "100%|██████████| 1/1 [00:02<00:00,  2.82s/it]\n",
      "100%|██████████| 1/1 [00:02<00:00,  2.78s/it]\n"
     ]
    }
   ],
   "source": [
    "embedders = {\"custom\": {\"source\": \"userProvided\", \"dimensions\": 3584}}\n",
    "embedder_name = \"custom\"\n",
    "vector_store = Meilisearch(\n",
    "    client=client, embedding=embeder, index_name=index, embedders=embedders\n",
    ")\n",
    "\n",
    "batch_size = 100\n",
    "for i in range(0, len(all_splits), batch_size):\n",
    "    # vector_store = vector_store.add_documents(documents=all_splits, embedding=embeder, embedder_name=embedder_name)\n",
    "    vector_store.add_documents(\n",
    "        all_splits[i : i + batch_size], embedding=embeder, embedder_name=embedder_name\n",
    "    )"
   ]
  },
  {
   "cell_type": "code",
   "execution_count": 30,
   "metadata": {},
   "outputs": [
    {
     "data": {
      "text/plain": [
       "'dnd_rules_bge_multilingual_gemma2'"
      ]
     },
     "execution_count": 30,
     "metadata": {},
     "output_type": "execute_result"
    }
   ],
   "source": [
    "index"
   ]
  },
  {
   "cell_type": "code",
   "execution_count": null,
   "metadata": {},
   "outputs": [],
   "source": []
  }
 ],
 "metadata": {
  "kernelspec": {
   "display_name": ".venv",
   "language": "python",
   "name": "python3"
  },
  "language_info": {
   "codemirror_mode": {
    "name": "ipython",
    "version": 3
   },
   "file_extension": ".py",
   "mimetype": "text/x-python",
   "name": "python",
   "nbconvert_exporter": "python",
   "pygments_lexer": "ipython3",
   "version": "3.13.1"
  }
 },
 "nbformat": 4,
 "nbformat_minor": 2
}
