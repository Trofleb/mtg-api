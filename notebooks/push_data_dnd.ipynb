{
 "cells": [
  {
   "cell_type": "code",
   "execution_count": null,
   "metadata": {},
   "outputs": [],
   "source": [
    "import os\n",
    "import sys\n",
    "\n",
    "sys.path.insert(0, os.path.abspath(\"..\"))"
   ]
  },
  {
   "cell_type": "code",
   "execution_count": null,
   "metadata": {},
   "outputs": [],
   "source": [
    "folder = \"../data/DND rules\"\n",
    "import glob\n",
    "\n",
    "md_files = glob.glob(f\"{folder}/**/*.md\", recursive=True)"
   ]
  },
  {
   "cell_type": "code",
   "execution_count": null,
   "metadata": {},
   "outputs": [],
   "source": [
    "test = {}\n",
    "for file in md_files:\n",
    "    length = len(file.split(\"/\"))\n",
    "    test[length] = test.get(length, 0) + 1"
   ]
  },
  {
   "cell_type": "code",
   "execution_count": null,
   "metadata": {},
   "outputs": [],
   "source": [
    "len(md_files)"
   ]
  },
  {
   "cell_type": "code",
   "execution_count": null,
   "metadata": {},
   "outputs": [],
   "source": [
    "from langchain_text_splitters import MarkdownHeaderTextSplitter\n",
    "\n",
    "headers_to_split_on = [\n",
    "    (\"#\", \"h1\"),\n",
    "    (\"##\", \"h2\"),\n",
    "    (\"###\", \"h3\"),\n",
    "    (\"####\", \"h4\"),\n",
    "    (\"#####\", \"h5\"),\n",
    "    (\"######\", \"h6\"),\n",
    "    (\"#######\", \"h7\"),\n",
    "]\n",
    "paragraphs = []\n",
    "markdown_splitter = MarkdownHeaderTextSplitter(headers_to_split_on=headers_to_split_on)\n",
    "\n",
    "all_splits = []\n",
    "for file in md_files:\n",
    "    if any([name in file for name in [\"Changelog.md\", \"README.md\", \"Legal.md\"]]):\n",
    "        continue\n",
    "    splits = file.split(\"/\")\n",
    "    with open(file, \"r\") as f:\n",
    "        md_header_splits = markdown_splitter.split_text(f.read())\n",
    "        for text in md_header_splits:\n",
    "            splits[-1] = splits[-1].replace(\".md\", \"\")\n",
    "            txt_metadata = [f\"{k}: {v}\" for k, v in text.metadata.items()]\n",
    "            text.metadata[\"Category\"] = splits[2]\n",
    "            if len(splits) > 3:\n",
    "                text.metadata[\"Sub category\"] = splits[3]\n",
    "\n",
    "            txt_metadata = [\n",
    "                f\"Category: {splits[2]}\",\n",
    "                f\"Sub category: {splits[3]}\" if len(splits) > 3 else \"\",\n",
    "                *txt_metadata,\n",
    "            ]\n",
    "            text.page_content = f\"{'\\n'.join(txt_metadata)}\\n\\n{text.page_content}\"\n",
    "        all_splits.extend(md_header_splits)"
   ]
  },
  {
   "cell_type": "code",
   "execution_count": null,
   "metadata": {},
   "outputs": [],
   "source": [
    "import os\n",
    "\n",
    "from dotenv import load_dotenv\n",
    "\n",
    "load_dotenv()\n",
    "TOKEN = os.getenv(\"IK_API_KEY\", \"\")\n",
    "PRODUCT_ID = os.getenv(\"IK_PRODUCT_ID\", \"\")\n",
    "URL = f\"https://api.infomaniak.com/1/ai/{PRODUCT_ID}/openai/v1\""
   ]
  },
  {
   "cell_type": "code",
   "execution_count": null,
   "metadata": {},
   "outputs": [],
   "source": [
    "from common.infomaniak.ik_embeddings import IKEmbeddings\n",
    "\n",
    "model = \"bge_multilingual_gemma2\"  # \"mini_lm_l12_v2\" #\n",
    "\n",
    "embeder = IKEmbeddings(model=model)\n",
    "index = f\"dnd_rules_{model}\""
   ]
  },
  {
   "cell_type": "code",
   "execution_count": null,
   "metadata": {},
   "outputs": [],
   "source": [
    "import os\n",
    "\n",
    "import meilisearch\n",
    "from langchain.vectorstores import Meilisearch\n",
    "\n",
    "# You can use the same code as `setup.py` to check for missing env vars\n",
    "\n",
    "# Create the vector store\n",
    "client = meilisearch.Client(\n",
    "    url=os.environ.get(\"MEILI_HTTP_ADDR\", \"http://localhost:7700\"),\n",
    "    api_key=os.environ.get(\"MEILI_API_KEY\", \"2AB8F223884CE\"),\n",
    ")"
   ]
  },
  {
   "cell_type": "code",
   "execution_count": null,
   "metadata": {},
   "outputs": [],
   "source": [
    "# client.delete_index(\"dnd_rules\")\n",
    "client.delete_index(index)"
   ]
  },
  {
   "cell_type": "code",
   "execution_count": null,
   "metadata": {},
   "outputs": [],
   "source": [
    "from requests import patch\n",
    "\n",
    "patch(\n",
    "    \"http://localhost:7700/experimental-features\",\n",
    "    headers={\n",
    "        \"Authorization\": f\"Bearer {os.environ.get('MEILI_API_KEY', '2AB8F223884CE')}\"\n",
    "    },\n",
    "    json={\"vectorStore\": True},\n",
    ").text"
   ]
  },
  {
   "cell_type": "code",
   "execution_count": null,
   "metadata": {},
   "outputs": [],
   "source": [
    "from requests import get\n",
    "\n",
    "get(\n",
    "    \"http://localhost:7700/version\",\n",
    "    headers={\n",
    "        \"Authorization\": f\"Bearer {os.environ.get('MEILI_API_KEY', '2AB8F223884CE')}\"\n",
    "    },\n",
    ").text"
   ]
  },
  {
   "cell_type": "code",
   "execution_count": null,
   "metadata": {},
   "outputs": [],
   "source": [
    "embedders = {\"custom\": {\"source\": \"userProvided\", \"dimensions\": 3584}}\n",
    "embedder_name = \"custom\"\n",
    "vector_store = Meilisearch(\n",
    "    client=client, embedding=embeder, index_name=index, embedders=embedders\n",
    ")\n",
    "\n",
    "batch_size = 100\n",
    "for i in range(0, len(all_splits), batch_size):\n",
    "    # vector_store = vector_store.add_documents(documents=all_splits, embedding=embeder, embedder_name=embedder_name)\n",
    "    vector_store.add_documents(\n",
    "        all_splits[i : i + batch_size], embedding=embeder, embedder_name=embedder_name\n",
    "    )"
   ]
  },
  {
   "cell_type": "code",
   "execution_count": null,
   "metadata": {},
   "outputs": [],
   "source": [
    "index"
   ]
  },
  {
   "cell_type": "code",
   "execution_count": null,
   "metadata": {},
   "outputs": [],
   "source": []
  }
 ],
 "metadata": {
  "kernelspec": {
   "display_name": ".venv",
   "language": "python",
   "name": "python3"
  },
  "language_info": {
   "codemirror_mode": {
    "name": "ipython",
    "version": 3
   },
   "file_extension": ".py",
   "mimetype": "text/x-python",
   "name": "python",
   "nbconvert_exporter": "python",
   "pygments_lexer": "ipython3",
   "version": "3.12.7"
  }
 },
 "nbformat": 4,
 "nbformat_minor": 2
}
