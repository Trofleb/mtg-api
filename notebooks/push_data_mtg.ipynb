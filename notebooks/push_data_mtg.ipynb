{
 "cells": [
  {
   "cell_type": "code",
   "execution_count": 11,
   "metadata": {},
   "outputs": [],
   "source": [
    "import os\n",
    "import sys\n",
    "sys.path.insert(0, os.path.abspath('..'))"
   ]
  },
  {
   "cell_type": "code",
   "execution_count": 12,
   "metadata": {},
   "outputs": [],
   "source": [
    "md_files = [\"../data/mtg_rules.txt\"]"
   ]
  },
  {
   "cell_type": "code",
   "execution_count": 24,
   "metadata": {},
   "outputs": [],
   "source": [
    "from langchain_text_splitters import MarkdownHeaderTextSplitter\n",
    "\n",
    "headers_to_split_on = [\n",
    "    (\"#\", \"h1\"),\n",
    "    (\"##\", \"h2\"),\n",
    "    (\"###\", \"h3\"),\n",
    "    (\"####\", \"h4\"),\n",
    "    (\"#####\", \"h5\"),\n",
    "    (\"######\", \"h6\"),\n",
    "    (\"#######\", \"h7\"),\n",
    "]\n",
    "paragraphs = []\n",
    "markdown_splitter = MarkdownHeaderTextSplitter(headers_to_split_on=headers_to_split_on)\n",
    "\n",
    "all_splits = []\n",
    "for file in md_files:\n",
    "    if any([name in file for name in [\"Changelog.md\", \"README.md\", \"Legal.md\"]]):\n",
    "        continue\n",
    "    splits = file.split(\"/\")\n",
    "    with open(file, 'r') as f:\n",
    "        md_header_splits = markdown_splitter.split_text(f.read())\n",
    "        for text in md_header_splits:\n",
    "            splits[-1] = splits[-1].replace(\".md\", \"\")\n",
    "            txt_metadata = [f\"{k}: {v}\" for k, v in text.metadata.items()]\n",
    "            text.metadata[\"File\"] = splits[2]\n",
    "            \n",
    "            txt_metadata = [\n",
    "                f\"File: {splits[2]}\",\n",
    "                *txt_metadata,\n",
    "            ]\n",
    "            text.page_content = f\"{'\\n'.join(txt_metadata)}\\n\\n{text.page_content}\"\n",
    "        all_splits.extend(md_header_splits)"
   ]
  },
  {
   "cell_type": "code",
   "execution_count": 25,
   "metadata": {},
   "outputs": [
    {
     "data": {
      "text/plain": [
       "Document(metadata={'h1': 'Magic: The Gathering Comprehensive Rules', 'h2': 'Glossary', 'h3': 'Space Sculptor', 'File': 'mtg_rules.txt'}, page_content='File: mtg_rules.txt\\nh1: Magic: The Gathering Comprehensive Rules\\nh2: Glossary\\nh3: Space Sculptor\\n\\nA keyword ability that splits creatures on the battlefield into sectors. See rule 702.158, “Space Sculptor.”')"
      ]
     },
     "execution_count": 25,
     "metadata": {},
     "output_type": "execute_result"
    }
   ],
   "source": [
    "all_splits[1700]"
   ]
  },
  {
   "cell_type": "code",
   "execution_count": 26,
   "metadata": {},
   "outputs": [],
   "source": [
    "TOKEN = \"OsSrZ1DqQh2Kdfamz0HP7CC7g1DYDZcEDRy_Ql_trCP81h5TnBov2oZ5cOAKSEemTiK9hQ8WdRhiQuPc\"\n",
    "PRODUCT_ID = \"101420\"\n",
    "URL = f\"https://api.infomaniak.com/1/ai/{PRODUCT_ID}/openai/v1\""
   ]
  },
  {
   "cell_type": "code",
   "execution_count": 27,
   "metadata": {},
   "outputs": [],
   "source": [
    "from common.infomaniak.ik_embeddings import IKEmbeddings\n",
    "\n",
    "model = \"bge_multilingual_gemma2\" # \"mini_lm_l12_v2\" # \n",
    "\n",
    "embeder = IKEmbeddings(model=model)\n",
    "index = f\"mtg_rules_{model}\""
   ]
  },
  {
   "cell_type": "code",
   "execution_count": 28,
   "metadata": {},
   "outputs": [],
   "source": [
    "import os\n",
    "from langchain.vectorstores import Meilisearch\n",
    "import meilisearch\n",
    "\n",
    "# You can use the same code as `setup.py` to check for missing env vars\n",
    "\n",
    "# Create the vector store\n",
    "client = meilisearch.Client(\n",
    "    url=os.environ.get(\"MEILI_HTTP_ADDR\", \"http://localhost:7700\"),\n",
    "    api_key=os.environ.get(\"MEILI_API_KEY\", \"2AB8F223884CE\"),\n",
    ")"
   ]
  },
  {
   "cell_type": "code",
   "execution_count": 29,
   "metadata": {},
   "outputs": [
    {
     "data": {
      "text/plain": [
       "TaskInfo(task_uid=43, index_uid='mtg_rules_bge_multilingual_gemma2', status='enqueued', type='indexDeletion', enqueued_at=datetime.datetime(2025, 2, 17, 19, 39, 53, 716094))"
      ]
     },
     "execution_count": 29,
     "metadata": {},
     "output_type": "execute_result"
    }
   ],
   "source": [
    "# client.delete_index(\"dnd_rules\")\n",
    "client.delete_index(index)"
   ]
  },
  {
   "cell_type": "code",
   "execution_count": 30,
   "metadata": {},
   "outputs": [
    {
     "data": {
      "text/plain": [
       "'{\"vectorStore\":true,\"metrics\":false,\"logsRoute\":false,\"editDocumentsByFunction\":false,\"containsFilter\":false}'"
      ]
     },
     "execution_count": 30,
     "metadata": {},
     "output_type": "execute_result"
    }
   ],
   "source": [
    "from requests import patch\n",
    "\n",
    "patch(\"http://localhost:7700/experimental-features\", headers={\n",
    "    \"Authorization\": f\"Bearer {os.environ.get(\"MEILI_API_KEY\", \"2AB8F223884CE\")}\"\n",
    "}, json={\"vectorStore\": True}).text"
   ]
  },
  {
   "cell_type": "code",
   "execution_count": 31,
   "metadata": {},
   "outputs": [
    {
     "data": {
      "text/plain": [
       "'{\"commitSha\":\"876084d48004e04ac0720cb064915d53c4743a1a\",\"commitDate\":\"2025-01-30T10:52:23.000000000Z\",\"pkgVersion\":\"1.12.8\"}'"
      ]
     },
     "execution_count": 31,
     "metadata": {},
     "output_type": "execute_result"
    }
   ],
   "source": [
    "from requests import get\n",
    "\n",
    "get(\"http://localhost:7700/version\", headers={\n",
    "    \"Authorization\": f\"Bearer {os.environ.get(\"MEILI_API_KEY\", \"2AB8F223884CE\")}\"\n",
    "}).text"
   ]
  },
  {
   "cell_type": "code",
   "execution_count": 32,
   "metadata": {},
   "outputs": [
    {
     "name": "stderr",
     "output_type": "stream",
     "text": [
      "  0%|          | 0/7 [00:00<?, ?it/s]"
     ]
    },
    {
     "name": "stderr",
     "output_type": "stream",
     "text": [
      "100%|██████████| 7/7 [00:47<00:00,  6.81s/it]\n"
     ]
    }
   ],
   "source": [
    "from tqdm import tqdm\n",
    "\n",
    "\n",
    "embedders = { \n",
    "    \"custom\": {\n",
    "        \"source\": \"userProvided\",\n",
    "        \"dimensions\": 3584\n",
    "    }\n",
    "}\n",
    "embedder_name = \"custom\" \n",
    "vector_store = Meilisearch(client=client, embedding=embeder, index_name=index, embedders=embedders)\n",
    "\n",
    "batch_size = 300\n",
    "for i in tqdm(range(0, len(all_splits), batch_size)):\n",
    "    # vector_store = vector_store.add_documents(documents=all_splits, embedding=embeder, embedder_name=embedder_name)\n",
    "    vector_store.add_documents(all_splits[i:i+batch_size], embedding=embeder, embedder_name=embedder_name)"
   ]
  },
  {
   "cell_type": "code",
   "execution_count": 33,
   "metadata": {},
   "outputs": [
    {
     "data": {
      "text/plain": [
       "'mtg_rules_bge_multilingual_gemma2'"
      ]
     },
     "execution_count": 33,
     "metadata": {},
     "output_type": "execute_result"
    }
   ],
   "source": [
    "index"
   ]
  },
  {
   "cell_type": "code",
   "execution_count": null,
   "metadata": {},
   "outputs": [],
   "source": []
  }
 ],
 "metadata": {
  "kernelspec": {
   "display_name": ".venv",
   "language": "python",
   "name": "python3"
  },
  "language_info": {
   "codemirror_mode": {
    "name": "ipython",
    "version": 3
   },
   "file_extension": ".py",
   "mimetype": "text/x-python",
   "name": "python",
   "nbconvert_exporter": "python",
   "pygments_lexer": "ipython3",
   "version": "3.13.1"
  }
 },
 "nbformat": 4,
 "nbformat_minor": 2
}
