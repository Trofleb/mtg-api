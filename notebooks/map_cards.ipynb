{
 "cells": [
  {
   "cell_type": "code",
   "execution_count": 2,
   "metadata": {},
   "outputs": [],
   "source": [
    "from csv import reader\n",
    "cards = []\n",
    "\n",
    "with open('./card_list.csv') as f:\n",
    "    pamreader = reader(f, delimiter=',', quotechar='\"')\n",
    "    for row in pamreader:\n",
    "        cards.extend([card for card in row if card.strip() and \"(\" in card])\n"
   ]
  },
  {
   "cell_type": "code",
   "execution_count": 5,
   "metadata": {},
   "outputs": [],
   "source": [
    "import os\n",
    "import re\n",
    "\n",
    "to_buy = []\n",
    "not_found = []\n",
    "not_parsed = []\n",
    "# 1 Ertai Resurrected <showcase> [DMU] (F)\n",
    "reg = r\"^(?:(?P<count>\\d+) )?(?P<name>[^\\<\\[\\(]*)\\b(?:(?: <(?P<chevron>[^\\<\\[\\(]*)>)|(?: \\[(?P<bracket>[^\\<\\[\\(]*)\\])|(?: \\((?P<parenthesis>[^\\<\\[\\(]*)\\)))*\"\n",
    "wants = os.listdir('./wants')\n",
    "for want in wants:\n",
    "    with open(f'./wants/{want}') as f:\n",
    "        for line in f:\n",
    "            if not line.strip():\n",
    "                continue\n",
    "            # print(line)\n",
    "            matches = re.match(reg, line)\n",
    "            if not matches:\n",
    "                print(f\"Could not parse {line}\")\n",
    "                not_parsed.append(line)\n",
    "                continue\n",
    "            \n",
    "            count, name, special, card_set, other = matches.groups()\n",
    "            for card_name in cards:\n",
    "                only_name, edition = card_name.split(' (', 1)\n",
    "                if name == only_name:\n",
    "                    to_buy.append((int(count), card_name))\n",
    "                    break\n",
    "            else:\n",
    "                not_found.append((int(count), f\"{name} ({card_set})\"))\n",
    "\n"
   ]
  },
  {
   "cell_type": "code",
   "execution_count": 6,
   "metadata": {},
   "outputs": [
    {
     "data": {
      "text/plain": [
       "[]"
      ]
     },
     "execution_count": 6,
     "metadata": {},
     "output_type": "execute_result"
    }
   ],
   "source": [
    "not_parsed"
   ]
  },
  {
   "cell_type": "code",
   "execution_count": 72,
   "metadata": {},
   "outputs": [],
   "source": [
    "def aggregate_count(cards):\n",
    "    counts = {}\n",
    "    for count, card in cards:\n",
    "        if card in counts:\n",
    "            counts[card] += count\n",
    "        else:\n",
    "            counts[card] = count\n",
    "    return counts.items()"
   ]
  },
  {
   "cell_type": "code",
   "execution_count": 77,
   "metadata": {},
   "outputs": [
    {
     "data": {
      "text/plain": [
       "(139, 56)"
      ]
     },
     "execution_count": 77,
     "metadata": {},
     "output_type": "execute_result"
    }
   ],
   "source": [
    "len(to_buy), len(not_found)"
   ]
  },
  {
   "cell_type": "code",
   "execution_count": 73,
   "metadata": {},
   "outputs": [],
   "source": [
    "not_found = aggregate_count(not_found)"
   ]
  },
  {
   "cell_type": "code",
   "execution_count": 74,
   "metadata": {},
   "outputs": [],
   "source": [
    "to_buy = aggregate_count(to_buy)"
   ]
  },
  {
   "cell_type": "code",
   "execution_count": 78,
   "metadata": {},
   "outputs": [],
   "source": [
    "from csv import writer\n",
    "\n",
    "with open('./to_buy.csv', 'w') as f:\n",
    "    pamwriter = writer(f, delimiter=',', quotechar='\"')\n",
    "    \n",
    "    pamwriter.writerow([\"Existing Cards\"])\n",
    "    pamwriter.writerow([\"Count\", \"Card Name\"])\n",
    "    for name, count in sorted(to_buy, key=lambda x: x[0]):\n",
    "        pamwriter.writerow([count, name])\n",
    "    \n",
    "    pamwriter.writerow([])\n",
    "    pamwriter.writerow([\"Not found in list\"])\n",
    "    pamwriter.writerow([\"Count\", \"Card Name\"])\n",
    "    for name, count in sorted(not_found, key=lambda x: x[0]):\n",
    "        pamwriter.writerow([count, name])"
   ]
  },
  {
   "cell_type": "code",
   "execution_count": null,
   "metadata": {},
   "outputs": [],
   "source": []
  }
 ],
 "metadata": {
  "kernelspec": {
   "display_name": ".venv",
   "language": "python",
   "name": "python3"
  },
  "language_info": {
   "codemirror_mode": {
    "name": "ipython",
    "version": 3
   },
   "file_extension": ".py",
   "mimetype": "text/x-python",
   "name": "python",
   "nbconvert_exporter": "python",
   "pygments_lexer": "ipython3",
   "version": "3.13.1"
  }
 },
 "nbformat": 4,
 "nbformat_minor": 2
}
