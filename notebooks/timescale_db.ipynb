{
 "cells": [
  {
   "cell_type": "code",
   "execution_count": null,
   "metadata": {},
   "outputs": [],
   "source": [
    "from dotenv import load_dotenv\n",
    "\n",
    "load_dotenv(\"../timescale-nicocasa.ch-credentials.env\")"
   ]
  },
  {
   "cell_type": "code",
   "execution_count": null,
   "metadata": {},
   "outputs": [],
   "source": [
    "import asyncpg\n",
    "import asyncio"
   ]
  },
  {
   "cell_type": "code",
   "execution_count": null,
   "metadata": {},
   "outputs": [],
   "source": [
    "import os\n",
    "\n",
    "CONNECTION = os.getenv(\"TIMESCALE_SERVICE_URL\")"
   ]
  },
  {
   "cell_type": "code",
   "execution_count": null,
   "metadata": {},
   "outputs": [],
   "source": [
    "pool = await asyncpg.create_pool(CONNECTION)"
   ]
  },
  {
   "cell_type": "code",
   "execution_count": null,
   "metadata": {},
   "outputs": [],
   "source": [
    "create_table_query = '''\n",
    "CREATE TABLE card_rank (\n",
    "    time    TIMESTAMPTZ NOT NULL,\n",
    "    card_id bpchar      NOT NULL,\n",
    "    edhrec  INT         NULL\n",
    ");\n",
    "'''\n",
    "\n",
    "async with pool.acquire() as connection:\n",
    "    # Open a transaction.\n",
    "    async with connection.transaction():\n",
    "        # Run the query passing the request argument.\n",
    "        res = await connection.execute(create_table_query)\n",
    "        print(\"Table created\", res)"
   ]
  },
  {
   "cell_type": "code",
   "execution_count": null,
   "metadata": {},
   "outputs": [],
   "source": [
    "alter_table_query = '''\n",
    "    ALTER TABLE card_rank\n",
    "    ALTER COLUMN edhrec TYPE INT USING edhrec::INTEGER;\n",
    "'''\n",
    "\n",
    "async with pool.acquire() as connection:\n",
    "    # Open a transaction.\n",
    "    async with connection.transaction():\n",
    "        # Run the query passing the request argument.\n",
    "        res = await connection.execute(alter_table_query)\n",
    "        print(\"Table updated\", res)"
   ]
  },
  {
   "cell_type": "code",
   "execution_count": null,
   "metadata": {},
   "outputs": [],
   "source": [
    "get_columns_query = '''\n",
    "    SELECT column_name, data_type\n",
    "    FROM information_schema.columns\n",
    "    WHERE table_name = 'card_rank';\n",
    "'''\n",
    "\n",
    "async with pool.acquire() as connection:\n",
    "    # Run the query to get the columns.\n",
    "    columns = await connection.fetch(get_columns_query)\n",
    "    for column in columns:\n",
    "        print(f\"Column: {column['column_name']}, Type: {column['data_type']}\")\n"
   ]
  },
  {
   "cell_type": "code",
   "execution_count": null,
   "metadata": {},
   "outputs": [],
   "source": [
    "set_hypertable = '''\n",
    "    SELECT create_hypertable(\n",
    "        'card_rank',\n",
    "        by_range('time', INTERVAL '7 days')\n",
    "    );\n",
    "'''\n",
    "\n",
    "async with pool.acquire() as connection:\n",
    "    # Open a transaction.\n",
    "    async with connection.transaction():\n",
    "        # Run the query passing the request argument.\n",
    "        res = await connection.execute(set_hypertable)\n",
    "        print(\"Table updated\", res)\n"
   ]
  },
  {
   "cell_type": "code",
   "execution_count": null,
   "metadata": {},
   "outputs": [],
   "source": [
    "import os\n",
    "\n",
    "DATABASE = os.getenv(\"DATABASE\", \"mtg\")\n",
    "DATABASE_HOST = \"localhost\"\n",
    "DATABASE_USER = os.getenv(\"DATABASE_USER\", \"root\")\n",
    "DATABASE_PASSWORD = os.getenv(\"DATABASE_PASSWORD\", \"root\")\n",
    "DATABASE_PORT = os.getenv(\"DATABASE_PORT\", \"27017\")\n",
    "\n",
    "from pymongo import MongoClient\n",
    "\n",
    "client = MongoClient(\n",
    "    f\"mongodb://{DATABASE_USER}:{DATABASE_PASSWORD}@{DATABASE_HOST}:{DATABASE_PORT}\"\n",
    ")\n",
    "db = client[DATABASE]\n",
    "edhrec_daily = db[\"edhrec_daily\"]"
   ]
  },
  {
   "cell_type": "code",
   "execution_count": null,
   "metadata": {},
   "outputs": [],
   "source": [
    "edhrec_daily.find_one()"
   ]
  },
  {
   "cell_type": "code",
   "execution_count": null,
   "metadata": {},
   "outputs": [],
   "source": [
    "# Fetch all documents from the edhrec_daily collection\n",
    "documents = edhrec_daily.find()\n",
    "\n",
    "# Prepare the data for insertion\n",
    "data_to_insert = (\n",
    "    (doc['date'], doc['card_id'], doc.get('edhrec', None))\n",
    "    for doc in documents\n",
    ")\n",
    "\n",
    "# Insert data into the card_rank table\n",
    "insert_query = '''\n",
    "INSERT INTO card_rank (time, card_id, edhrec)\n",
    "VALUES ($1, $2, $3)\n",
    "'''\n",
    "\n",
    "async with pool.acquire() as connection:\n",
    "    # async with connection.transaction():\n",
    "    await connection.executemany(insert_query, data_to_insert)\n",
    "    print(\"Data imported successfully\")"
   ]
  },
  {
   "cell_type": "code",
   "execution_count": null,
   "metadata": {},
   "outputs": [],
   "source": [
    "count_rows_query = '''\n",
    "    SELECT COUNT(*) FROM card_rank;\n",
    "'''\n",
    "\n",
    "async with pool.acquire() as connection:\n",
    "    # Run the query to count the rows.\n",
    "    row_count = await connection.fetchval(count_rows_query)\n",
    "    print(f\"Number of rows in card_rank table: {row_count}\")"
   ]
  },
  {
   "cell_type": "code",
   "execution_count": null,
   "metadata": {},
   "outputs": [],
   "source": []
  }
 ],
 "metadata": {
  "kernelspec": {
   "display_name": ".venv",
   "language": "python",
   "name": "python3"
  },
  "language_info": {
   "codemirror_mode": {
    "name": "ipython",
    "version": 3
   },
   "file_extension": ".py",
   "mimetype": "text/x-python",
   "name": "python",
   "nbconvert_exporter": "python",
   "pygments_lexer": "ipython3",
   "version": "3.13.1"
  }
 },
 "nbformat": 4,
 "nbformat_minor": 2
}
