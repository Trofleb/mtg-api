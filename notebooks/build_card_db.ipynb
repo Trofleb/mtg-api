{
 "cells": [
  {
   "cell_type": "code",
   "execution_count": 1,
   "metadata": {},
   "outputs": [],
   "source": [
    "import json\n",
    "\n",
    "\n",
    "def read_file(file_path: str):\n",
    "    with open(file_path) as file:\n",
    "        return json.loads(file.read())"
   ]
  },
  {
   "cell_type": "code",
   "execution_count": 2,
   "metadata": {},
   "outputs": [],
   "source": [
    "import pandas as pd\n",
    "\n",
    "df = read_file(\"../data/oracle-cards-20250121100232.json\")\n",
    "oracle_df = pd.DataFrame(df)"
   ]
  },
  {
   "cell_type": "code",
   "execution_count": 3,
   "metadata": {},
   "outputs": [],
   "source": [
    "import pandas as pd\n",
    "\n",
    "df = read_file(\"../data/all-cards-20250119102215.json\")\n",
    "cards_df = pd.DataFrame(df)"
   ]
  },
  {
   "cell_type": "code",
   "execution_count": 6,
   "metadata": {},
   "outputs": [],
   "source": [
    "import os\n",
    "\n",
    "DATABASE = os.getenv(\"DATABASE\", \"mtg\")\n",
    "DATABASE_HOST = \"localhost\"\n",
    "DATABASE_USER = os.getenv(\"DATABASE_USER\", \"root\")\n",
    "DATABASE_PASSWORD = os.getenv(\"DATABASE_PASSWORD\", \"root\")\n",
    "DATABASE_PORT = os.getenv(\"DATABASE_PORT\", \"27017\")"
   ]
  },
  {
   "cell_type": "code",
   "execution_count": null,
   "metadata": {},
   "outputs": [],
   "source": [
    "print(f\"mongodb://{DATABASE_USER}:{DATABASE_PASSWORD}@{DATABASE_HOST}:{DATABASE_PORT}\")"
   ]
  },
  {
   "cell_type": "code",
   "execution_count": null,
   "metadata": {},
   "outputs": [],
   "source": []
  },
  {
   "cell_type": "code",
   "execution_count": 20,
   "metadata": {},
   "outputs": [],
   "source": [
    "from pymongo import MongoClient\n",
    "\n",
    "client = MongoClient(\n",
    "    f\"mongodb://{DATABASE_USER}:{DATABASE_PASSWORD}@{DATABASE_HOST}:{DATABASE_PORT}\"\n",
    ")\n",
    "db = client[DATABASE]\n",
    "collection = db[\"cards\"]"
   ]
  },
  {
   "cell_type": "code",
   "execution_count": null,
   "metadata": {},
   "outputs": [],
   "source": [
    "from pymongo import ASCENDING, HASHED, TEXT, IndexModel\n",
    "\n",
    "collection.create_indexes(\n",
    "    [\n",
    "        IndexModel([(\"object\", HASHED)]),\n",
    "        IndexModel([(\"card_faces.object\", ASCENDING)]),\n",
    "        IndexModel([(\"id\", HASHED)]),\n",
    "        IndexModel([(\"oracle_id\", HASHED)]),\n",
    "        IndexModel([(\"multiverse_ids\", ASCENDING)]),\n",
    "        IndexModel([(\"mtgo_id\", HASHED)]),\n",
    "        IndexModel([(\"arena_id\", HASHED)]),\n",
    "        IndexModel([(\"tcgplayer_id\", HASHED)]),\n",
    "        IndexModel([(\"name\", ASCENDING)]),\n",
    "        IndexModel([(\"lang\", HASHED)]),\n",
    "        IndexModel([(\"released_at\", ASCENDING)]),\n",
    "        IndexModel([(\"layout\", HASHED)]),\n",
    "        IndexModel([(\"highres_image\", HASHED)]),\n",
    "        IndexModel([(\"image_status\", HASHED)]),\n",
    "        IndexModel([(\"cmc\", ASCENDING)]),\n",
    "        IndexModel([(\"colors\", ASCENDING)]),\n",
    "        IndexModel([(\"card_faces.colors\", ASCENDING)]),\n",
    "        IndexModel([(\"color_identity\", ASCENDING)]),\n",
    "        IndexModel([(\"card_faces.color_indicator\", ASCENDING)]),\n",
    "        IndexModel([(\"produced_mana\", ASCENDING)]),\n",
    "        IndexModel([(\"games\", ASCENDING)]),\n",
    "        IndexModel([(\"keywords\", ASCENDING)]),\n",
    "        IndexModel([(\"reserved\", HASHED)]),\n",
    "        IndexModel([(\"foil\", HASHED)]),\n",
    "        IndexModel([(\"nonfoil\", HASHED)]),\n",
    "        IndexModel([(\"finishes\", ASCENDING)]),\n",
    "        IndexModel([(\"oversized\", HASHED)]),\n",
    "        IndexModel([(\"promo\", HASHED)]),\n",
    "        IndexModel([(\"reprint\", HASHED)]),\n",
    "        IndexModel([(\"variation\", HASHED)]),\n",
    "        IndexModel([(\"set_id\", HASHED)]),\n",
    "        IndexModel([(\"set\", ASCENDING)]),\n",
    "        IndexModel([(\"set_name\", ASCENDING)]),\n",
    "        IndexModel([(\"set_type\", ASCENDING)]),\n",
    "        IndexModel([(\"collector_number\", ASCENDING)]),\n",
    "        IndexModel([(\"digital\", HASHED)]),\n",
    "        IndexModel([(\"rarity\", HASHED)]),\n",
    "        IndexModel([(\"artist\", ASCENDING)]),\n",
    "        IndexModel([(\"artist_ids\", ASCENDING)]),\n",
    "        IndexModel([(\"illustration_id\", HASHED)]),\n",
    "        IndexModel([(\"card_faces.illustration_id\", ASCENDING)]),\n",
    "        IndexModel([(\"border_color\", HASHED)]),\n",
    "        IndexModel([(\"frame\", HASHED)]),\n",
    "        IndexModel([(\"full_art\", HASHED)]),\n",
    "        IndexModel([(\"textless\", HASHED)]),\n",
    "        IndexModel([(\"booster\", HASHED)]),\n",
    "        IndexModel([(\"story_spotlight\", HASHED)]),\n",
    "        IndexModel([(\"mtgo_foil_id\", HASHED)]),\n",
    "        IndexModel([(\"watermark\", HASHED)]),\n",
    "        IndexModel([(\"cardmarket_id\", HASHED)]),\n",
    "        IndexModel([(\"power\", ASCENDING)]),\n",
    "        IndexModel([(\"toughness\", ASCENDING)]),\n",
    "        IndexModel([(\"edhrec_rank\", ASCENDING)]),\n",
    "        IndexModel([(\"penny_rank\", ASCENDING)]),\n",
    "        IndexModel([(\"security_stamp\", ASCENDING)]),\n",
    "        IndexModel(\n",
    "            [\n",
    "                (\"name\", TEXT),\n",
    "                (\"card_faces.name\", TEXT),\n",
    "                (\"type_line\", TEXT),\n",
    "                (\"card_faces.type_line\", TEXT),\n",
    "                (\"artist\", TEXT),\n",
    "                (\"card_faces.artist\", TEXT),\n",
    "                (\"oracle_text\", TEXT),\n",
    "                (\"card_faces.oracle_text\", TEXT),\n",
    "                (\"flavor_text\", TEXT),\n",
    "                (\"card_faces.flavor_text\", TEXT),\n",
    "                (\"printed_name\", TEXT),\n",
    "                (\"card_faces.printed_name\", TEXT),\n",
    "                (\"printed_type_line\", TEXT),\n",
    "                (\"card_faces.printed_type_line\", TEXT),\n",
    "                (\"printed_text\", TEXT),\n",
    "                (\"card_faces.printed_text\", TEXT),\n",
    "                (\"flavor_name\", TEXT),\n",
    "            ]\n",
    "        ),\n",
    "    ]\n",
    ")"
   ]
  },
  {
   "cell_type": "code",
   "execution_count": 24,
   "metadata": {},
   "outputs": [],
   "source": [
    "# requesting = []\n",
    "\n",
    "# collection.delete_many({})\n",
    "\n",
    "# for index, card in cards_df.iterrows():\n",
    "#     requesting.append(InsertOne(card.to_dict()))\n",
    "\n",
    "# collection.bulk_write(requesting)\n",
    "# client.close()"
   ]
  },
  {
   "cell_type": "code",
   "execution_count": null,
   "metadata": {},
   "outputs": [],
   "source": []
  }
 ],
 "metadata": {
  "kernelspec": {
   "display_name": ".venv",
   "language": "python",
   "name": "python3"
  },
  "language_info": {
   "codemirror_mode": {
    "name": "ipython",
    "version": 3
   },
   "file_extension": ".py",
   "mimetype": "text/x-python",
   "name": "python",
   "nbconvert_exporter": "python",
   "pygments_lexer": "ipython3",
   "version": "3.13.1"
  }
 },
 "nbformat": 4,
 "nbformat_minor": 2
}
